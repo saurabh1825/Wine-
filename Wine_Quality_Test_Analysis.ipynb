{
  "nbformat": 4,
  "nbformat_minor": 0,
  "metadata": {
    "colab": {
      "provenance": [],
      "mount_file_id": "1I0-FclmazC8LyZtJyiPdyHWTYIqL7MVA",
      "authorship_tag": "ABX9TyMk6U7YWkDGWLsy4wczuPSM",
      "include_colab_link": true
    },
    "kernelspec": {
      "name": "python3",
      "display_name": "Python 3"
    },
    "language_info": {
      "name": "python"
    }
  },
  "cells": [
    {
      "cell_type": "markdown",
      "metadata": {
        "id": "view-in-github",
        "colab_type": "text"
      },
      "source": [
        "<a href=\"https://colab.research.google.com/github/saurabh1825/Wine-/blob/main/Wine_Quality_Test_Analysis.ipynb\" target=\"_parent\"><img src=\"https://colab.research.google.com/assets/colab-badge.svg\" alt=\"Open In Colab\"/></a>"
      ]
    },
    {
      "cell_type": "code",
      "execution_count": 7,
      "metadata": {
        "id": "GV5OMKZyP-2I"
      },
      "outputs": [],
      "source": [
        "import numpy as np\n",
        "import pandas as pd\n",
        "import matplotlib.pyplot as plt\n",
        "import seaborn as sns\n",
        "from sklearn.model_selection import train_test_split\n",
        "from sklearn.svm import SVC\n",
        "from sklearn.metrics  import accuracy_score\n",
        "from sklearn.ensemble import RandomForestClassifier"
      ]
    },
    {
      "cell_type": "code",
      "source": [
        "from google.colab import drive\n",
        "drive.mount('/content/drive')"
      ],
      "metadata": {
        "colab": {
          "base_uri": "https://localhost:8080/"
        },
        "id": "y4Uz211zseoj",
        "outputId": "b8cdd238-1803-491b-9ee6-ad5eeaafbd80"
      },
      "execution_count": 8,
      "outputs": [
        {
          "output_type": "stream",
          "name": "stdout",
          "text": [
            "Drive already mounted at /content/drive; to attempt to forcibly remount, call drive.mount(\"/content/drive\", force_remount=True).\n"
          ]
        }
      ]
    },
    {
      "cell_type": "code",
      "source": [
        "%cd /content/drive/MyDrive/Github/"
      ],
      "metadata": {
        "colab": {
          "base_uri": "https://localhost:8080/"
        },
        "id": "X6jRNZGNtQxo",
        "outputId": "f76fae2a-d947-47a0-b478-c8445d54b586"
      },
      "execution_count": 9,
      "outputs": [
        {
          "output_type": "stream",
          "name": "stdout",
          "text": [
            "[Errno 2] No such file or directory: '/content/drive/MyDrive/Github/'\n",
            "/content\n"
          ]
        }
      ]
    },
    {
      "cell_type": "code",
      "source": [
        "wine = pd.read_csv(\"winequality-red.csv\")\n",
        "wine.head()"
      ],
      "metadata": {
        "colab": {
          "base_uri": "https://localhost:8080/",
          "height": 223
        },
        "id": "u9qYEWYXSQFx",
        "outputId": "726c4e69-8e51-4a61-b11f-e310f4ff2fb5"
      },
      "execution_count": 10,
      "outputs": [
        {
          "output_type": "execute_result",
          "data": {
            "text/plain": [
              "   fixed acidity  volatile acidity  citric acid  residual sugar  chlorides  \\\n",
              "0            7.4              0.70         0.00             1.9      0.076   \n",
              "1            7.8              0.88         0.00             2.6      0.098   \n",
              "2            7.8              0.76         0.04             2.3      0.092   \n",
              "3           11.2              0.28         0.56             1.9      0.075   \n",
              "4            7.4              0.70         0.00             1.9      0.076   \n",
              "\n",
              "   free sulfur dioxide  total sulfur dioxide  density    pH  sulphates  \\\n",
              "0                 11.0                  34.0   0.9978  3.51       0.56   \n",
              "1                 25.0                  67.0   0.9968  3.20       0.68   \n",
              "2                 15.0                  54.0   0.9970  3.26       0.65   \n",
              "3                 17.0                  60.0   0.9980  3.16       0.58   \n",
              "4                 11.0                  34.0   0.9978  3.51       0.56   \n",
              "\n",
              "   alcohol  quality  \n",
              "0      9.4        5  \n",
              "1      9.8        5  \n",
              "2      9.8        5  \n",
              "3      9.8        6  \n",
              "4      9.4        5  "
            ],
            "text/html": [
              "\n",
              "  <div id=\"df-d45747cd-48cf-4154-9154-278651815505\" class=\"colab-df-container\">\n",
              "    <div>\n",
              "<style scoped>\n",
              "    .dataframe tbody tr th:only-of-type {\n",
              "        vertical-align: middle;\n",
              "    }\n",
              "\n",
              "    .dataframe tbody tr th {\n",
              "        vertical-align: top;\n",
              "    }\n",
              "\n",
              "    .dataframe thead th {\n",
              "        text-align: right;\n",
              "    }\n",
              "</style>\n",
              "<table border=\"1\" class=\"dataframe\">\n",
              "  <thead>\n",
              "    <tr style=\"text-align: right;\">\n",
              "      <th></th>\n",
              "      <th>fixed acidity</th>\n",
              "      <th>volatile acidity</th>\n",
              "      <th>citric acid</th>\n",
              "      <th>residual sugar</th>\n",
              "      <th>chlorides</th>\n",
              "      <th>free sulfur dioxide</th>\n",
              "      <th>total sulfur dioxide</th>\n",
              "      <th>density</th>\n",
              "      <th>pH</th>\n",
              "      <th>sulphates</th>\n",
              "      <th>alcohol</th>\n",
              "      <th>quality</th>\n",
              "    </tr>\n",
              "  </thead>\n",
              "  <tbody>\n",
              "    <tr>\n",
              "      <th>0</th>\n",
              "      <td>7.4</td>\n",
              "      <td>0.70</td>\n",
              "      <td>0.00</td>\n",
              "      <td>1.9</td>\n",
              "      <td>0.076</td>\n",
              "      <td>11.0</td>\n",
              "      <td>34.0</td>\n",
              "      <td>0.9978</td>\n",
              "      <td>3.51</td>\n",
              "      <td>0.56</td>\n",
              "      <td>9.4</td>\n",
              "      <td>5</td>\n",
              "    </tr>\n",
              "    <tr>\n",
              "      <th>1</th>\n",
              "      <td>7.8</td>\n",
              "      <td>0.88</td>\n",
              "      <td>0.00</td>\n",
              "      <td>2.6</td>\n",
              "      <td>0.098</td>\n",
              "      <td>25.0</td>\n",
              "      <td>67.0</td>\n",
              "      <td>0.9968</td>\n",
              "      <td>3.20</td>\n",
              "      <td>0.68</td>\n",
              "      <td>9.8</td>\n",
              "      <td>5</td>\n",
              "    </tr>\n",
              "    <tr>\n",
              "      <th>2</th>\n",
              "      <td>7.8</td>\n",
              "      <td>0.76</td>\n",
              "      <td>0.04</td>\n",
              "      <td>2.3</td>\n",
              "      <td>0.092</td>\n",
              "      <td>15.0</td>\n",
              "      <td>54.0</td>\n",
              "      <td>0.9970</td>\n",
              "      <td>3.26</td>\n",
              "      <td>0.65</td>\n",
              "      <td>9.8</td>\n",
              "      <td>5</td>\n",
              "    </tr>\n",
              "    <tr>\n",
              "      <th>3</th>\n",
              "      <td>11.2</td>\n",
              "      <td>0.28</td>\n",
              "      <td>0.56</td>\n",
              "      <td>1.9</td>\n",
              "      <td>0.075</td>\n",
              "      <td>17.0</td>\n",
              "      <td>60.0</td>\n",
              "      <td>0.9980</td>\n",
              "      <td>3.16</td>\n",
              "      <td>0.58</td>\n",
              "      <td>9.8</td>\n",
              "      <td>6</td>\n",
              "    </tr>\n",
              "    <tr>\n",
              "      <th>4</th>\n",
              "      <td>7.4</td>\n",
              "      <td>0.70</td>\n",
              "      <td>0.00</td>\n",
              "      <td>1.9</td>\n",
              "      <td>0.076</td>\n",
              "      <td>11.0</td>\n",
              "      <td>34.0</td>\n",
              "      <td>0.9978</td>\n",
              "      <td>3.51</td>\n",
              "      <td>0.56</td>\n",
              "      <td>9.4</td>\n",
              "      <td>5</td>\n",
              "    </tr>\n",
              "  </tbody>\n",
              "</table>\n",
              "</div>\n",
              "    <div class=\"colab-df-buttons\">\n",
              "\n",
              "  <div class=\"colab-df-container\">\n",
              "    <button class=\"colab-df-convert\" onclick=\"convertToInteractive('df-d45747cd-48cf-4154-9154-278651815505')\"\n",
              "            title=\"Convert this dataframe to an interactive table.\"\n",
              "            style=\"display:none;\">\n",
              "\n",
              "  <svg xmlns=\"http://www.w3.org/2000/svg\" height=\"24px\" viewBox=\"0 -960 960 960\">\n",
              "    <path d=\"M120-120v-720h720v720H120Zm60-500h600v-160H180v160Zm220 220h160v-160H400v160Zm0 220h160v-160H400v160ZM180-400h160v-160H180v160Zm440 0h160v-160H620v160ZM180-180h160v-160H180v160Zm440 0h160v-160H620v160Z\"/>\n",
              "  </svg>\n",
              "    </button>\n",
              "\n",
              "  <style>\n",
              "    .colab-df-container {\n",
              "      display:flex;\n",
              "      gap: 12px;\n",
              "    }\n",
              "\n",
              "    .colab-df-convert {\n",
              "      background-color: #E8F0FE;\n",
              "      border: none;\n",
              "      border-radius: 50%;\n",
              "      cursor: pointer;\n",
              "      display: none;\n",
              "      fill: #1967D2;\n",
              "      height: 32px;\n",
              "      padding: 0 0 0 0;\n",
              "      width: 32px;\n",
              "    }\n",
              "\n",
              "    .colab-df-convert:hover {\n",
              "      background-color: #E2EBFA;\n",
              "      box-shadow: 0px 1px 2px rgba(60, 64, 67, 0.3), 0px 1px 3px 1px rgba(60, 64, 67, 0.15);\n",
              "      fill: #174EA6;\n",
              "    }\n",
              "\n",
              "    .colab-df-buttons div {\n",
              "      margin-bottom: 4px;\n",
              "    }\n",
              "\n",
              "    [theme=dark] .colab-df-convert {\n",
              "      background-color: #3B4455;\n",
              "      fill: #D2E3FC;\n",
              "    }\n",
              "\n",
              "    [theme=dark] .colab-df-convert:hover {\n",
              "      background-color: #434B5C;\n",
              "      box-shadow: 0px 1px 3px 1px rgba(0, 0, 0, 0.15);\n",
              "      filter: drop-shadow(0px 1px 2px rgba(0, 0, 0, 0.3));\n",
              "      fill: #FFFFFF;\n",
              "    }\n",
              "  </style>\n",
              "\n",
              "    <script>\n",
              "      const buttonEl =\n",
              "        document.querySelector('#df-d45747cd-48cf-4154-9154-278651815505 button.colab-df-convert');\n",
              "      buttonEl.style.display =\n",
              "        google.colab.kernel.accessAllowed ? 'block' : 'none';\n",
              "\n",
              "      async function convertToInteractive(key) {\n",
              "        const element = document.querySelector('#df-d45747cd-48cf-4154-9154-278651815505');\n",
              "        const dataTable =\n",
              "          await google.colab.kernel.invokeFunction('convertToInteractive',\n",
              "                                                    [key], {});\n",
              "        if (!dataTable) return;\n",
              "\n",
              "        const docLinkHtml = 'Like what you see? Visit the ' +\n",
              "          '<a target=\"_blank\" href=https://colab.research.google.com/notebooks/data_table.ipynb>data table notebook</a>'\n",
              "          + ' to learn more about interactive tables.';\n",
              "        element.innerHTML = '';\n",
              "        dataTable['output_type'] = 'display_data';\n",
              "        await google.colab.output.renderOutput(dataTable, element);\n",
              "        const docLink = document.createElement('div');\n",
              "        docLink.innerHTML = docLinkHtml;\n",
              "        element.appendChild(docLink);\n",
              "      }\n",
              "    </script>\n",
              "  </div>\n",
              "\n",
              "\n",
              "<div id=\"df-30058069-5ee3-4a7a-a67a-7b1efa65f56f\">\n",
              "  <button class=\"colab-df-quickchart\" onclick=\"quickchart('df-30058069-5ee3-4a7a-a67a-7b1efa65f56f')\"\n",
              "            title=\"Suggest charts\"\n",
              "            style=\"display:none;\">\n",
              "\n",
              "<svg xmlns=\"http://www.w3.org/2000/svg\" height=\"24px\"viewBox=\"0 0 24 24\"\n",
              "     width=\"24px\">\n",
              "    <g>\n",
              "        <path d=\"M19 3H5c-1.1 0-2 .9-2 2v14c0 1.1.9 2 2 2h14c1.1 0 2-.9 2-2V5c0-1.1-.9-2-2-2zM9 17H7v-7h2v7zm4 0h-2V7h2v10zm4 0h-2v-4h2v4z\"/>\n",
              "    </g>\n",
              "</svg>\n",
              "  </button>\n",
              "\n",
              "<style>\n",
              "  .colab-df-quickchart {\n",
              "      --bg-color: #E8F0FE;\n",
              "      --fill-color: #1967D2;\n",
              "      --hover-bg-color: #E2EBFA;\n",
              "      --hover-fill-color: #174EA6;\n",
              "      --disabled-fill-color: #AAA;\n",
              "      --disabled-bg-color: #DDD;\n",
              "  }\n",
              "\n",
              "  [theme=dark] .colab-df-quickchart {\n",
              "      --bg-color: #3B4455;\n",
              "      --fill-color: #D2E3FC;\n",
              "      --hover-bg-color: #434B5C;\n",
              "      --hover-fill-color: #FFFFFF;\n",
              "      --disabled-bg-color: #3B4455;\n",
              "      --disabled-fill-color: #666;\n",
              "  }\n",
              "\n",
              "  .colab-df-quickchart {\n",
              "    background-color: var(--bg-color);\n",
              "    border: none;\n",
              "    border-radius: 50%;\n",
              "    cursor: pointer;\n",
              "    display: none;\n",
              "    fill: var(--fill-color);\n",
              "    height: 32px;\n",
              "    padding: 0;\n",
              "    width: 32px;\n",
              "  }\n",
              "\n",
              "  .colab-df-quickchart:hover {\n",
              "    background-color: var(--hover-bg-color);\n",
              "    box-shadow: 0 1px 2px rgba(60, 64, 67, 0.3), 0 1px 3px 1px rgba(60, 64, 67, 0.15);\n",
              "    fill: var(--button-hover-fill-color);\n",
              "  }\n",
              "\n",
              "  .colab-df-quickchart-complete:disabled,\n",
              "  .colab-df-quickchart-complete:disabled:hover {\n",
              "    background-color: var(--disabled-bg-color);\n",
              "    fill: var(--disabled-fill-color);\n",
              "    box-shadow: none;\n",
              "  }\n",
              "\n",
              "  .colab-df-spinner {\n",
              "    border: 2px solid var(--fill-color);\n",
              "    border-color: transparent;\n",
              "    border-bottom-color: var(--fill-color);\n",
              "    animation:\n",
              "      spin 1s steps(1) infinite;\n",
              "  }\n",
              "\n",
              "  @keyframes spin {\n",
              "    0% {\n",
              "      border-color: transparent;\n",
              "      border-bottom-color: var(--fill-color);\n",
              "      border-left-color: var(--fill-color);\n",
              "    }\n",
              "    20% {\n",
              "      border-color: transparent;\n",
              "      border-left-color: var(--fill-color);\n",
              "      border-top-color: var(--fill-color);\n",
              "    }\n",
              "    30% {\n",
              "      border-color: transparent;\n",
              "      border-left-color: var(--fill-color);\n",
              "      border-top-color: var(--fill-color);\n",
              "      border-right-color: var(--fill-color);\n",
              "    }\n",
              "    40% {\n",
              "      border-color: transparent;\n",
              "      border-right-color: var(--fill-color);\n",
              "      border-top-color: var(--fill-color);\n",
              "    }\n",
              "    60% {\n",
              "      border-color: transparent;\n",
              "      border-right-color: var(--fill-color);\n",
              "    }\n",
              "    80% {\n",
              "      border-color: transparent;\n",
              "      border-right-color: var(--fill-color);\n",
              "      border-bottom-color: var(--fill-color);\n",
              "    }\n",
              "    90% {\n",
              "      border-color: transparent;\n",
              "      border-bottom-color: var(--fill-color);\n",
              "    }\n",
              "  }\n",
              "</style>\n",
              "\n",
              "  <script>\n",
              "    async function quickchart(key) {\n",
              "      const quickchartButtonEl =\n",
              "        document.querySelector('#' + key + ' button');\n",
              "      quickchartButtonEl.disabled = true;  // To prevent multiple clicks.\n",
              "      quickchartButtonEl.classList.add('colab-df-spinner');\n",
              "      try {\n",
              "        const charts = await google.colab.kernel.invokeFunction(\n",
              "            'suggestCharts', [key], {});\n",
              "      } catch (error) {\n",
              "        console.error('Error during call to suggestCharts:', error);\n",
              "      }\n",
              "      quickchartButtonEl.classList.remove('colab-df-spinner');\n",
              "      quickchartButtonEl.classList.add('colab-df-quickchart-complete');\n",
              "    }\n",
              "    (() => {\n",
              "      let quickchartButtonEl =\n",
              "        document.querySelector('#df-30058069-5ee3-4a7a-a67a-7b1efa65f56f button');\n",
              "      quickchartButtonEl.style.display =\n",
              "        google.colab.kernel.accessAllowed ? 'block' : 'none';\n",
              "    })();\n",
              "  </script>\n",
              "</div>\n",
              "\n",
              "    </div>\n",
              "  </div>\n"
            ]
          },
          "metadata": {},
          "execution_count": 10
        }
      ]
    },
    {
      "cell_type": "code",
      "source": [
        "fig = plt.figure(figsize = (20,20))\n",
        "ax = fig.gca()\n",
        "wine.hist(ax = ax)"
      ],
      "metadata": {
        "colab": {
          "base_uri": "https://localhost:8080/",
          "height": 1000
        },
        "id": "3svkfXxtQjdK",
        "outputId": "8b0f7099-9bbb-4ac3-d124-1f99ac4189ce"
      },
      "execution_count": 11,
      "outputs": [
        {
          "output_type": "stream",
          "name": "stderr",
          "text": [
            "<ipython-input-11-4c32b06082c4>:3: UserWarning: To output multiple subplots, the figure containing the passed axes is being cleared.\n",
            "  wine.hist(ax = ax)\n"
          ]
        },
        {
          "output_type": "execute_result",
          "data": {
            "text/plain": [
              "array([[<Axes: title={'center': 'fixed acidity'}>,\n",
              "        <Axes: title={'center': 'volatile acidity'}>,\n",
              "        <Axes: title={'center': 'citric acid'}>],\n",
              "       [<Axes: title={'center': 'residual sugar'}>,\n",
              "        <Axes: title={'center': 'chlorides'}>,\n",
              "        <Axes: title={'center': 'free sulfur dioxide'}>],\n",
              "       [<Axes: title={'center': 'total sulfur dioxide'}>,\n",
              "        <Axes: title={'center': 'density'}>,\n",
              "        <Axes: title={'center': 'pH'}>],\n",
              "       [<Axes: title={'center': 'sulphates'}>,\n",
              "        <Axes: title={'center': 'alcohol'}>,\n",
              "        <Axes: title={'center': 'quality'}>]], dtype=object)"
            ]
          },
          "metadata": {},
          "execution_count": 11
        },
        {
          "output_type": "display_data",
          "data": {
            "text/plain": [
              "<Figure size 2000x2000 with 12 Axes>"
            ],
            "image/png": "[encoded data removed]"
          },
          "metadata": {}
        }
      ]
    },
    {
      "cell_type": "code",
      "source": [
        "wine.shape"
      ],
      "metadata": {
        "colab": {
          "base_uri": "https://localhost:8080/"
        },
        "id": "m3TMMqbnS2mP",
        "outputId": "62425e6d-b5af-4048-e633-2f38c1606b04"
      },
      "execution_count": 12,
      "outputs": [
        {
          "output_type": "execute_result",
          "data": {
            "text/plain": [
              "(1599, 12)"
            ]
          },
          "metadata": {},
          "execution_count": 12
        }
      ]
    },
    {
      "cell_type": "code",
      "source": [
        "wine.info()"
      ],
      "metadata": {
        "colab": {
          "base_uri": "https://localhost:8080/"
        },
        "id": "3zKvez3dTHMx",
        "outputId": "5a923943-db41-4dca-fac1-f3098215fecd"
      },
      "execution_count": 13,
      "outputs": [
        {
          "output_type": "stream",
          "name": "stdout",
          "text": [
            "<class 'pandas.core.frame.DataFrame'>\n",
            "RangeIndex: 1599 entries, 0 to 1598\n",
            "Data columns (total 12 columns):\n",
            " #   Column                Non-Null Count  Dtype  \n",
            "---  ------                --------------  -----  \n",
            " 0   fixed acidity         1599 non-null   float64\n",
            " 1   volatile acidity      1599 non-null   float64\n",
            " 2   citric acid           1599 non-null   float64\n",
            " 3   residual sugar        1599 non-null   float64\n",
            " 4   chlorides             1599 non-null   float64\n",
            " 5   free sulfur dioxide   1599 non-null   float64\n",
            " 6   total sulfur dioxide  1599 non-null   float64\n",
            " 7   density               1599 non-null   float64\n",
            " 8   pH                    1599 non-null   float64\n",
            " 9   sulphates             1599 non-null   float64\n",
            " 10  alcohol               1599 non-null   float64\n",
            " 11  quality               1599 non-null   int64  \n",
            "dtypes: float64(11), int64(1)\n",
            "memory usage: 150.0 KB\n"
          ]
        }
      ]
    },
    {
      "cell_type": "code",
      "source": [
        "wine.isnull().sum()"
      ],
      "metadata": {
        "colab": {
          "base_uri": "https://localhost:8080/"
        },
        "id": "HK42IMmrTKHQ",
        "outputId": "1daaabde-10b3-40cc-db7a-ebcf2d41d35a"
      },
      "execution_count": 14,
      "outputs": [
        {
          "output_type": "execute_result",
          "data": {
            "text/plain": [
              "fixed acidity           0\n",
              "volatile acidity        0\n",
              "citric acid             0\n",
              "residual sugar          0\n",
              "chlorides               0\n",
              "free sulfur dioxide     0\n",
              "total sulfur dioxide    0\n",
              "density                 0\n",
              "pH                      0\n",
              "sulphates               0\n",
              "alcohol                 0\n",
              "quality                 0\n",
              "dtype: int64"
            ]
          },
          "metadata": {},
          "execution_count": 14
        }
      ]
    },
    {
      "cell_type": "code",
      "source": [
        "wine.describe().T.style.background_gradient(axis=0)"
      ],
      "metadata": {
        "colab": {
          "base_uri": "https://localhost:8080/",
          "height": 425
        },
        "id": "kBIdRQ02TiBB",
        "outputId": "33caae78-3973-41c5-8b64-6b800229ceba"
      },
      "execution_count": 15,
      "outputs": [
        {
          "output_type": "execute_result",
          "data": {
            "text/plain": [
              "<pandas.io.formats.style.Styler at 0x7ce2b648af20>"
            ],
            "text/html": [
              "<style type=\"text/css\">\n",
              "#T_e51e8_row0_col0, #T_e51e8_row1_col0, #T_e51e8_row1_col7, #T_e51e8_row2_col0, #T_e51e8_row2_col3, #T_e51e8_row2_col4, #T_e51e8_row2_col7, #T_e51e8_row3_col0, #T_e51e8_row4_col0, #T_e51e8_row4_col1, #T_e51e8_row4_col2, #T_e51e8_row4_col3, #T_e51e8_row4_col4, #T_e51e8_row4_col5, #T_e51e8_row4_col6, #T_e51e8_row4_col7, #T_e51e8_row5_col0, #T_e51e8_row6_col0, #T_e51e8_row7_col0, #T_e51e8_row7_col2, #T_e51e8_row7_col7, #T_e51e8_row8_col0, #T_e51e8_row9_col0, #T_e51e8_row10_col0, #T_e51e8_row11_col0 {\n",
              "  background-color: #fff7fb;\n",
              "  color: #000000;\n",
              "}\n",
              "#T_e51e8_row0_col1, #T_e51e8_row10_col6 {\n",
              "  background-color: #e0deed;\n",
              "  color: #000000;\n",
              "}\n",
              "#T_e51e8_row0_col2, #T_e51e8_row0_col7, #T_e51e8_row3_col1, #T_e51e8_row3_col5, #T_e51e8_row3_col7, #T_e51e8_row8_col6 {\n",
              "  background-color: #f7f0f7;\n",
              "  color: #000000;\n",
              "}\n",
              "#T_e51e8_row0_col3 {\n",
              "  background-color: #5c9fc9;\n",
              "  color: #f1f1f1;\n",
              "}\n",
              "#T_e51e8_row0_col4 {\n",
              "  background-color: #b8c6e0;\n",
              "  color: #000000;\n",
              "}\n",
              "#T_e51e8_row0_col5 {\n",
              "  background-color: #dad9ea;\n",
              "  color: #000000;\n",
              "}\n",
              "#T_e51e8_row0_col6 {\n",
              "  background-color: #e7e3f0;\n",
              "  color: #000000;\n",
              "}\n",
              "#T_e51e8_row1_col1, #T_e51e8_row1_col5, #T_e51e8_row1_col6, #T_e51e8_row9_col6 {\n",
              "  background-color: #fef6fa;\n",
              "  color: #000000;\n",
              "}\n",
              "#T_e51e8_row1_col2, #T_e51e8_row2_col1, #T_e51e8_row2_col2, #T_e51e8_row2_col5, #T_e51e8_row2_col6, #T_e51e8_row8_col2, #T_e51e8_row9_col2, #T_e51e8_row9_col7 {\n",
              "  background-color: #fef6fb;\n",
              "  color: #000000;\n",
              "}\n",
              "#T_e51e8_row1_col3, #T_e51e8_row1_col4, #T_e51e8_row7_col6, #T_e51e8_row8_col7, #T_e51e8_row9_col1, #T_e51e8_row9_col5 {\n",
              "  background-color: #fdf5fa;\n",
              "  color: #000000;\n",
              "}\n",
              "#T_e51e8_row3_col2, #T_e51e8_row3_col6, #T_e51e8_row7_col4, #T_e51e8_row9_col3 {\n",
              "  background-color: #f9f2f8;\n",
              "  color: #000000;\n",
              "}\n",
              "#T_e51e8_row3_col3 {\n",
              "  background-color: #efe9f3;\n",
              "  color: #000000;\n",
              "}\n",
              "#T_e51e8_row3_col4, #T_e51e8_row8_col5 {\n",
              "  background-color: #f2ecf5;\n",
              "  color: #000000;\n",
              "}\n",
              "#T_e51e8_row5_col1 {\n",
              "  background-color: #b1c2de;\n",
              "  color: #000000;\n",
              "}\n",
              "#T_e51e8_row5_col2 {\n",
              "  background-color: #b9c6e0;\n",
              "  color: #000000;\n",
              "}\n",
              "#T_e51e8_row5_col3, #T_e51e8_row7_col3, #T_e51e8_row11_col1 {\n",
              "  background-color: #ede8f3;\n",
              "  color: #000000;\n",
              "}\n",
              "#T_e51e8_row5_col4 {\n",
              "  background-color: #bbc7e0;\n",
              "  color: #000000;\n",
              "}\n",
              "#T_e51e8_row5_col5 {\n",
              "  background-color: #a9bfdc;\n",
              "  color: #000000;\n",
              "}\n",
              "#T_e51e8_row5_col6 {\n",
              "  background-color: #b3c3de;\n",
              "  color: #000000;\n",
              "}\n",
              "#T_e51e8_row5_col7 {\n",
              "  background-color: #d1d2e6;\n",
              "  color: #000000;\n",
              "}\n",
              "#T_e51e8_row6_col1, #T_e51e8_row6_col2, #T_e51e8_row6_col4, #T_e51e8_row6_col5, #T_e51e8_row6_col6, #T_e51e8_row6_col7, #T_e51e8_row10_col3 {\n",
              "  background-color: #023858;\n",
              "  color: #f1f1f1;\n",
              "}\n",
              "#T_e51e8_row6_col3 {\n",
              "  background-color: #1379b5;\n",
              "  color: #f1f1f1;\n",
              "}\n",
              "#T_e51e8_row7_col1, #T_e51e8_row9_col4 {\n",
              "  background-color: #fcf4fa;\n",
              "  color: #000000;\n",
              "}\n",
              "#T_e51e8_row7_col5, #T_e51e8_row11_col2, #T_e51e8_row11_col7 {\n",
              "  background-color: #fbf4f9;\n",
              "  color: #000000;\n",
              "}\n",
              "#T_e51e8_row8_col1 {\n",
              "  background-color: #f5eef6;\n",
              "  color: #000000;\n",
              "}\n",
              "#T_e51e8_row8_col3 {\n",
              "  background-color: #b7c5df;\n",
              "  color: #000000;\n",
              "}\n",
              "#T_e51e8_row8_col4 {\n",
              "  background-color: #e8e4f0;\n",
              "  color: #000000;\n",
              "}\n",
              "#T_e51e8_row10_col1, #T_e51e8_row11_col4 {\n",
              "  background-color: #d6d6e9;\n",
              "  color: #000000;\n",
              "}\n",
              "#T_e51e8_row10_col2 {\n",
              "  background-color: #faf3f9;\n",
              "  color: #000000;\n",
              "}\n",
              "#T_e51e8_row10_col4 {\n",
              "  background-color: #8fb4d6;\n",
              "  color: #000000;\n",
              "}\n",
              "#T_e51e8_row10_col5 {\n",
              "  background-color: #cacee5;\n",
              "  color: #000000;\n",
              "}\n",
              "#T_e51e8_row10_col7 {\n",
              "  background-color: #f8f1f8;\n",
              "  color: #000000;\n",
              "}\n",
              "#T_e51e8_row11_col3 {\n",
              "  background-color: #acc0dd;\n",
              "  color: #000000;\n",
              "}\n",
              "#T_e51e8_row11_col5 {\n",
              "  background-color: #e6e2ef;\n",
              "  color: #000000;\n",
              "}\n",
              "#T_e51e8_row11_col6 {\n",
              "  background-color: #f1ebf4;\n",
              "  color: #000000;\n",
              "}\n",
              "</style>\n",
              "<table id=\"T_e51e8\" class=\"dataframe\">\n",
              "  <thead>\n",
              "    <tr>\n",
              "      <th class=\"blank level0\" >&nbsp;</th>\n",
              "      <th id=\"T_e51e8_level0_col0\" class=\"col_heading level0 col0\" >count</th>\n",
              "      <th id=\"T_e51e8_level0_col1\" class=\"col_heading level0 col1\" >mean</th>\n",
              "      <th id=\"T_e51e8_level0_col2\" class=\"col_heading level0 col2\" >std</th>\n",
              "      <th id=\"T_e51e8_level0_col3\" class=\"col_heading level0 col3\" >min</th>\n",
              "      <th id=\"T_e51e8_level0_col4\" class=\"col_heading level0 col4\" >25%</th>\n",
              "      <th id=\"T_e51e8_level0_col5\" class=\"col_heading level0 col5\" >50%</th>\n",
              "      <th id=\"T_e51e8_level0_col6\" class=\"col_heading level0 col6\" >75%</th>\n",
              "      <th id=\"T_e51e8_level0_col7\" class=\"col_heading level0 col7\" >max</th>\n",
              "    </tr>\n",
              "  </thead>\n",
              "  <tbody>\n",
              "    <tr>\n",
              "      <th id=\"T_e51e8_level0_row0\" class=\"row_heading level0 row0\" >fixed acidity</th>\n",
              "      <td id=\"T_e51e8_row0_col0\" class=\"data row0 col0\" >1599.000000</td>\n",
              "      <td id=\"T_e51e8_row0_col1\" class=\"data row0 col1\" >8.319637</td>\n",
              "      <td id=\"T_e51e8_row0_col2\" class=\"data row0 col2\" >1.741096</td>\n",
              "      <td id=\"T_e51e8_row0_col3\" class=\"data row0 col3\" >4.600000</td>\n",
              "      <td id=\"T_e51e8_row0_col4\" class=\"data row0 col4\" >7.100000</td>\n",
              "      <td id=\"T_e51e8_row0_col5\" class=\"data row0 col5\" >7.900000</td>\n",
              "      <td id=\"T_e51e8_row0_col6\" class=\"data row0 col6\" >9.200000</td>\n",
              "      <td id=\"T_e51e8_row0_col7\" class=\"data row0 col7\" >15.900000</td>\n",
              "    </tr>\n",
              "    <tr>\n",
              "      <th id=\"T_e51e8_level0_row1\" class=\"row_heading level0 row1\" >volatile acidity</th>\n",
              "      <td id=\"T_e51e8_row1_col0\" class=\"data row1 col0\" >1599.000000</td>\n",
              "      <td id=\"T_e51e8_row1_col1\" class=\"data row1 col1\" >0.527821</td>\n",
              "      <td id=\"T_e51e8_row1_col2\" class=\"data row1 col2\" >0.179060</td>\n",
              "      <td id=\"T_e51e8_row1_col3\" class=\"data row1 col3\" >0.120000</td>\n",
              "      <td id=\"T_e51e8_row1_col4\" class=\"data row1 col4\" >0.390000</td>\n",
              "      <td id=\"T_e51e8_row1_col5\" class=\"data row1 col5\" >0.520000</td>\n",
              "      <td id=\"T_e51e8_row1_col6\" class=\"data row1 col6\" >0.640000</td>\n",
              "      <td id=\"T_e51e8_row1_col7\" class=\"data row1 col7\" >1.580000</td>\n",
              "    </tr>\n",
              "    <tr>\n",
              "      <th id=\"T_e51e8_level0_row2\" class=\"row_heading level0 row2\" >citric acid</th>\n",
              "      <td id=\"T_e51e8_row2_col0\" class=\"data row2 col0\" >1599.000000</td>\n",
              "      <td id=\"T_e51e8_row2_col1\" class=\"data row2 col1\" >0.270976</td>\n",
              "      <td id=\"T_e51e8_row2_col2\" class=\"data row2 col2\" >0.194801</td>\n",
              "      <td id=\"T_e51e8_row2_col3\" class=\"data row2 col3\" >0.000000</td>\n",
              "      <td id=\"T_e51e8_row2_col4\" class=\"data row2 col4\" >0.090000</td>\n",
              "      <td id=\"T_e51e8_row2_col5\" class=\"data row2 col5\" >0.260000</td>\n",
              "      <td id=\"T_e51e8_row2_col6\" class=\"data row2 col6\" >0.420000</td>\n",
              "      <td id=\"T_e51e8_row2_col7\" class=\"data row2 col7\" >1.000000</td>\n",
              "    </tr>\n",
              "    <tr>\n",
              "      <th id=\"T_e51e8_level0_row3\" class=\"row_heading level0 row3\" >residual sugar</th>\n",
              "      <td id=\"T_e51e8_row3_col0\" class=\"data row3 col0\" >1599.000000</td>\n",
              "      <td id=\"T_e51e8_row3_col1\" class=\"data row3 col1\" >2.538806</td>\n",
              "      <td id=\"T_e51e8_row3_col2\" class=\"data row3 col2\" >1.409928</td>\n",
              "      <td id=\"T_e51e8_row3_col3\" class=\"data row3 col3\" >0.900000</td>\n",
              "      <td id=\"T_e51e8_row3_col4\" class=\"data row3 col4\" >1.900000</td>\n",
              "      <td id=\"T_e51e8_row3_col5\" class=\"data row3 col5\" >2.200000</td>\n",
              "      <td id=\"T_e51e8_row3_col6\" class=\"data row3 col6\" >2.600000</td>\n",
              "      <td id=\"T_e51e8_row3_col7\" class=\"data row3 col7\" >15.500000</td>\n",
              "    </tr>\n",
              "    <tr>\n",
              "      <th id=\"T_e51e8_level0_row4\" class=\"row_heading level0 row4\" >chlorides</th>\n",
              "      <td id=\"T_e51e8_row4_col0\" class=\"data row4 col0\" >1599.000000</td>\n",
              "      <td id=\"T_e51e8_row4_col1\" class=\"data row4 col1\" >0.087467</td>\n",
              "      <td id=\"T_e51e8_row4_col2\" class=\"data row4 col2\" >0.047065</td>\n",
              "      <td id=\"T_e51e8_row4_col3\" class=\"data row4 col3\" >0.012000</td>\n",
              "      <td id=\"T_e51e8_row4_col4\" class=\"data row4 col4\" >0.070000</td>\n",
              "      <td id=\"T_e51e8_row4_col5\" class=\"data row4 col5\" >0.079000</td>\n",
              "      <td id=\"T_e51e8_row4_col6\" class=\"data row4 col6\" >0.090000</td>\n",
              "      <td id=\"T_e51e8_row4_col7\" class=\"data row4 col7\" >0.611000</td>\n",
              "    </tr>\n",
              "    <tr>\n",
              "      <th id=\"T_e51e8_level0_row5\" class=\"row_heading level0 row5\" >free sulfur dioxide</th>\n",
              "      <td id=\"T_e51e8_row5_col0\" class=\"data row5 col0\" >1599.000000</td>\n",
              "      <td id=\"T_e51e8_row5_col1\" class=\"data row5 col1\" >15.874922</td>\n",
              "      <td id=\"T_e51e8_row5_col2\" class=\"data row5 col2\" >10.460157</td>\n",
              "      <td id=\"T_e51e8_row5_col3\" class=\"data row5 col3\" >1.000000</td>\n",
              "      <td id=\"T_e51e8_row5_col4\" class=\"data row5 col4\" >7.000000</td>\n",
              "      <td id=\"T_e51e8_row5_col5\" class=\"data row5 col5\" >14.000000</td>\n",
              "      <td id=\"T_e51e8_row5_col6\" class=\"data row5 col6\" >21.000000</td>\n",
              "      <td id=\"T_e51e8_row5_col7\" class=\"data row5 col7\" >72.000000</td>\n",
              "    </tr>\n",
              "    <tr>\n",
              "      <th id=\"T_e51e8_level0_row6\" class=\"row_heading level0 row6\" >total sulfur dioxide</th>\n",
              "      <td id=\"T_e51e8_row6_col0\" class=\"data row6 col0\" >1599.000000</td>\n",
              "      <td id=\"T_e51e8_row6_col1\" class=\"data row6 col1\" >46.467792</td>\n",
              "      <td id=\"T_e51e8_row6_col2\" class=\"data row6 col2\" >32.895324</td>\n",
              "      <td id=\"T_e51e8_row6_col3\" class=\"data row6 col3\" >6.000000</td>\n",
              "      <td id=\"T_e51e8_row6_col4\" class=\"data row6 col4\" >22.000000</td>\n",
              "      <td id=\"T_e51e8_row6_col5\" class=\"data row6 col5\" >38.000000</td>\n",
              "      <td id=\"T_e51e8_row6_col6\" class=\"data row6 col6\" >62.000000</td>\n",
              "      <td id=\"T_e51e8_row6_col7\" class=\"data row6 col7\" >289.000000</td>\n",
              "    </tr>\n",
              "    <tr>\n",
              "      <th id=\"T_e51e8_level0_row7\" class=\"row_heading level0 row7\" >density</th>\n",
              "      <td id=\"T_e51e8_row7_col0\" class=\"data row7 col0\" >1599.000000</td>\n",
              "      <td id=\"T_e51e8_row7_col1\" class=\"data row7 col1\" >0.996747</td>\n",
              "      <td id=\"T_e51e8_row7_col2\" class=\"data row7 col2\" >0.001887</td>\n",
              "      <td id=\"T_e51e8_row7_col3\" class=\"data row7 col3\" >0.990070</td>\n",
              "      <td id=\"T_e51e8_row7_col4\" class=\"data row7 col4\" >0.995600</td>\n",
              "      <td id=\"T_e51e8_row7_col5\" class=\"data row7 col5\" >0.996750</td>\n",
              "      <td id=\"T_e51e8_row7_col6\" class=\"data row7 col6\" >0.997835</td>\n",
              "      <td id=\"T_e51e8_row7_col7\" class=\"data row7 col7\" >1.003690</td>\n",
              "    </tr>\n",
              "    <tr>\n",
              "      <th id=\"T_e51e8_level0_row8\" class=\"row_heading level0 row8\" >pH</th>\n",
              "      <td id=\"T_e51e8_row8_col0\" class=\"data row8 col0\" >1599.000000</td>\n",
              "      <td id=\"T_e51e8_row8_col1\" class=\"data row8 col1\" >3.311113</td>\n",
              "      <td id=\"T_e51e8_row8_col2\" class=\"data row8 col2\" >0.154386</td>\n",
              "      <td id=\"T_e51e8_row8_col3\" class=\"data row8 col3\" >2.740000</td>\n",
              "      <td id=\"T_e51e8_row8_col4\" class=\"data row8 col4\" >3.210000</td>\n",
              "      <td id=\"T_e51e8_row8_col5\" class=\"data row8 col5\" >3.310000</td>\n",
              "      <td id=\"T_e51e8_row8_col6\" class=\"data row8 col6\" >3.400000</td>\n",
              "      <td id=\"T_e51e8_row8_col7\" class=\"data row8 col7\" >4.010000</td>\n",
              "    </tr>\n",
              "    <tr>\n",
              "      <th id=\"T_e51e8_level0_row9\" class=\"row_heading level0 row9\" >sulphates</th>\n",
              "      <td id=\"T_e51e8_row9_col0\" class=\"data row9 col0\" >1599.000000</td>\n",
              "      <td id=\"T_e51e8_row9_col1\" class=\"data row9 col1\" >0.658149</td>\n",
              "      <td id=\"T_e51e8_row9_col2\" class=\"data row9 col2\" >0.169507</td>\n",
              "      <td id=\"T_e51e8_row9_col3\" class=\"data row9 col3\" >0.330000</td>\n",
              "      <td id=\"T_e51e8_row9_col4\" class=\"data row9 col4\" >0.550000</td>\n",
              "      <td id=\"T_e51e8_row9_col5\" class=\"data row9 col5\" >0.620000</td>\n",
              "      <td id=\"T_e51e8_row9_col6\" class=\"data row9 col6\" >0.730000</td>\n",
              "      <td id=\"T_e51e8_row9_col7\" class=\"data row9 col7\" >2.000000</td>\n",
              "    </tr>\n",
              "    <tr>\n",
              "      <th id=\"T_e51e8_level0_row10\" class=\"row_heading level0 row10\" >alcohol</th>\n",
              "      <td id=\"T_e51e8_row10_col0\" class=\"data row10 col0\" >1599.000000</td>\n",
              "      <td id=\"T_e51e8_row10_col1\" class=\"data row10 col1\" >10.422983</td>\n",
              "      <td id=\"T_e51e8_row10_col2\" class=\"data row10 col2\" >1.065668</td>\n",
              "      <td id=\"T_e51e8_row10_col3\" class=\"data row10 col3\" >8.400000</td>\n",
              "      <td id=\"T_e51e8_row10_col4\" class=\"data row10 col4\" >9.500000</td>\n",
              "      <td id=\"T_e51e8_row10_col5\" class=\"data row10 col5\" >10.200000</td>\n",
              "      <td id=\"T_e51e8_row10_col6\" class=\"data row10 col6\" >11.100000</td>\n",
              "      <td id=\"T_e51e8_row10_col7\" class=\"data row10 col7\" >14.900000</td>\n",
              "    </tr>\n",
              "    <tr>\n",
              "      <th id=\"T_e51e8_level0_row11\" class=\"row_heading level0 row11\" >quality</th>\n",
              "      <td id=\"T_e51e8_row11_col0\" class=\"data row11 col0\" >1599.000000</td>\n",
              "      <td id=\"T_e51e8_row11_col1\" class=\"data row11 col1\" >5.636023</td>\n",
              "      <td id=\"T_e51e8_row11_col2\" class=\"data row11 col2\" >0.807569</td>\n",
              "      <td id=\"T_e51e8_row11_col3\" class=\"data row11 col3\" >3.000000</td>\n",
              "      <td id=\"T_e51e8_row11_col4\" class=\"data row11 col4\" >5.000000</td>\n",
              "      <td id=\"T_e51e8_row11_col5\" class=\"data row11 col5\" >6.000000</td>\n",
              "      <td id=\"T_e51e8_row11_col6\" class=\"data row11 col6\" >6.000000</td>\n",
              "      <td id=\"T_e51e8_row11_col7\" class=\"data row11 col7\" >8.000000</td>\n",
              "    </tr>\n",
              "  </tbody>\n",
              "</table>\n"
            ]
          },
          "metadata": {},
          "execution_count": 15
        }
      ]
    },
    {
      "cell_type": "code",
      "source": [
        "sns.pairplot(wine)"
      ],
      "metadata": {
        "colab": {
          "base_uri": "https://localhost:8080/"
        },
        "id": "4ga42CxMhwxu",
        "outputId": "c1e2de93-96f6-483e-974e-1c51f917a16a"
      },
      "execution_count": null,
      "outputs": [
        {
          "output_type": "execute_result",
          "data": {
            "text/plain": [
              "<seaborn.axisgrid.PairGrid at 0x7ce2b649fac0>"
            ]
          },
          "metadata": {},
          "execution_count": 16
        }
      ]
    },
    {
      "cell_type": "code",
      "source": [
        "sns.catplot(x='quality', data = wine, kind = 'count', palette= 'Spectral')"
      ],
      "metadata": {
        "id": "LEtRXZBkTxhl"
      },
      "execution_count": null,
      "outputs": []
    },
    {
      "cell_type": "code",
      "source": [
        "plot = plt.figure(figsize=(9,6))\n",
        "sns.barplot(x = 'quality', y = 'volatile acidity' ,data = wine, palette= 'ocean')"
      ],
      "metadata": {
        "id": "Ra-Ys68HUozt"
      },
      "execution_count": null,
      "outputs": []
    },
    {
      "cell_type": "markdown",
      "source": [],
      "metadata": {
        "id": "ZVRCTkD9V66f"
      }
    },
    {
      "cell_type": "code",
      "source": [
        "plot = plt.figure(figsize=(9,6))\n",
        "sns.barplot(x = 'quality', y = 'citric acid' ,data = wine, palette= 'ocean')"
      ],
      "metadata": {
        "id": "9xWPnA6cVP73"
      },
      "execution_count": null,
      "outputs": []
    },
    {
      "cell_type": "code",
      "source": [
        "wine.plot(kind='scatter', x='volatile acidity', y='citric acid')"
      ],
      "metadata": {
        "id": "dFJi_DDnjvj4"
      },
      "execution_count": null,
      "outputs": []
    },
    {
      "cell_type": "code",
      "source": [
        "plt.figure(figsize=(20,9))\n",
        "sns.boxplot(data = wine)"
      ],
      "metadata": {
        "id": "WT7vc6J1XREF"
      },
      "execution_count": null,
      "outputs": []
    },
    {
      "cell_type": "code",
      "source": [
        "plt.title('Outliers in free sulfur dioxide column')\n",
        "\n",
        "sns.boxplot( y = 'free sulfur dioxide', data = wine)"
      ],
      "metadata": {
        "id": "PSmcguQinoQx"
      },
      "execution_count": null,
      "outputs": []
    },
    {
      "cell_type": "code",
      "source": [
        "plt.title('Outliers in total sulfur dioxide column')\n",
        "\n",
        "sns.boxplot( y = 'total sulfur dioxide', data = wine)"
      ],
      "metadata": {
        "id": "l1ie4o58noYT"
      },
      "execution_count": null,
      "outputs": []
    },
    {
      "cell_type": "code",
      "source": [
        "correlation = wine.corr()"
      ],
      "metadata": {
        "id": "HJANEovTV0vQ"
      },
      "execution_count": null,
      "outputs": []
    },
    {
      "cell_type": "code",
      "source": [
        "plt.figure(figsize=(10,8))\n",
        "sns.heatmap(correlation, annot =True,cmap =\"Blues\", square = True, cbar = True, fmt='.2f')"
      ],
      "metadata": {
        "id": "bSTrEYlwYh1G"
      },
      "execution_count": null,
      "outputs": []
    },
    {
      "cell_type": "code",
      "source": [
        "X = wine.drop('quality',axis = 1).values"
      ],
      "metadata": {
        "id": "1OiokQztd3Xx"
      },
      "execution_count": null,
      "outputs": []
    },
    {
      "cell_type": "code",
      "source": [
        "y = wine['quality'].apply(lambda y_values: 1 if y_values>=7 else 0 )"
      ],
      "metadata": {
        "id": "UESkDnLxd3bM"
      },
      "execution_count": null,
      "outputs": []
    },
    {
      "cell_type": "code",
      "source": [
        "X_train, X_test, y_train, y_test = train_test_split(X,y,test_size= 0.20,random_state=2)"
      ],
      "metadata": {
        "id": "KPcduypYZmrA"
      },
      "execution_count": null,
      "outputs": []
    },
    {
      "cell_type": "code",
      "source": [
        "print(X_train.shape)\n",
        "print(X_test.shape)\n",
        "print(y_train.shape)\n",
        "print(y_train.shape)"
      ],
      "metadata": {
        "id": "TP6PF778cd1X"
      },
      "execution_count": null,
      "outputs": []
    },
    {
      "cell_type": "code",
      "source": [
        "model = RandomForestClassifier()"
      ],
      "metadata": {
        "id": "Ri47TnCAeuVU"
      },
      "execution_count": null,
      "outputs": []
    },
    {
      "cell_type": "code",
      "source": [
        "model.fit(X_train, y_train)"
      ],
      "metadata": {
        "id": "OM8GT58tfNBp"
      },
      "execution_count": null,
      "outputs": []
    },
    {
      "cell_type": "code",
      "source": [
        "X_test_predict = model.predict(X_test)\n",
        "test_accuracy = accuracy_score(X_test_predict, y_test)"
      ],
      "metadata": {
        "id": "w8LkPSFdfSsJ"
      },
      "execution_count": null,
      "outputs": []
    },
    {
      "cell_type": "code",
      "source": [
        "print('Accuracy : ', test_accuracy)"
      ],
      "metadata": {
        "id": "tsmJwj2Pf7vQ"
      },
      "execution_count": null,
      "outputs": []
    },
    {
      "cell_type": "code",
      "source": [],
      "metadata": {
        "id": "dZgBt3isgKbY"
      },
      "execution_count": null,
      "outputs": []
    }
  ]
}